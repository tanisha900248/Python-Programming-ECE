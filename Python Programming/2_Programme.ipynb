{
 "cells": [
  {
   "cell_type": "code",
   "execution_count": 3,
   "metadata": {},
   "outputs": [
    {
     "name": "stdout",
     "output_type": "stream",
     "text": [
      "My name is Kaustav. I study in MSIT college. My roll no is 14200322006\n"
     ]
    }
   ],
   "source": [
    "class Name:\n",
    "    def main():\n",
    "        a=6\n",
    "        b=\"MSIT\"\n",
    "        c=\"Tanisha\"\n",
    "        d=\"ECE\"\n",
    "        e=14200322006\n",
    "        final=\"My name is {2}. I study in {1} college. My roll no is {4}\"\n",
    "        abc=final.format(a,b,c,d,e)\n",
    "        print(abc)\n",
    "Name.main()\n",
    "        "
   ]
  }
 ],
 "metadata": {
  "kernelspec": {
   "display_name": "Python 3",
   "language": "python",
   "name": "python3"
  },
  "language_info": {
   "codemirror_mode": {
    "name": "ipython",
    "version": 3
   },
   "file_extension": ".py",
   "mimetype": "text/x-python",
   "name": "python",
   "nbconvert_exporter": "python",
   "pygments_lexer": "ipython3",
   "version": "3.11.4"
  },
  "orig_nbformat": 4
 },
 "nbformat": 4,
 "nbformat_minor": 2
}
