{
 "cells": [
  {
   "cell_type": "code",
   "execution_count": 1,
   "metadata": {},
   "outputs": [
    {
     "name": "stdout",
     "output_type": "stream",
     "text": [
      "      Name  Roll no.\n",
      "0  Kaustav         6\n",
      "1  Namrata        16\n",
      "2    Soham         8\n",
      "3  Rimjhim        32\n",
      "4   Tanmoy         4\n",
      "5     Aqib         9\n"
     ]
    }
   ],
   "source": [
    "import pandas as pd\n",
    "import numpy as np\n",
    "class Test:\n",
    "    def main():\n",
    "        abc={\n",
    "            \"Name\":[\"Kaustav\", \"Namrata\", \"Soham\", \"Rimjhim\", \"Tanmoy\", \"Aqib\"],\n",
    "            \"Roll no.\":[6,16,8,32,4,9]\n",
    "        }\n",
    "        xyz=pd.DataFrame(abc)\n",
    "        print(xyz)\n",
    "Test.main()"
   ]
  }
 ],
 "metadata": {
  "kernelspec": {
   "display_name": "Python 3",
   "language": "python",
   "name": "python3"
  },
  "language_info": {
   "codemirror_mode": {
    "name": "ipython",
    "version": 3
   },
   "file_extension": ".py",
   "mimetype": "text/x-python",
   "name": "python",
   "nbconvert_exporter": "python",
   "pygments_lexer": "ipython3",
   "version": "3.11.4"
  },
  "orig_nbformat": 4
 },
 "nbformat": 4,
 "nbformat_minor": 2
}
